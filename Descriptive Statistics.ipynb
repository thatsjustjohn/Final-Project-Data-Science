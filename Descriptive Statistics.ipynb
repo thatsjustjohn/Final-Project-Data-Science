{
 "cells": [
  {
   "cell_type": "markdown",
   "metadata": {},
   "source": [
    "#These are the packages that need to be imported / installed\n",
    "to install you need to SSH into the server pip install [package] --user\n",
    "packages I installed are pandas and pymysql\n",
    "\n",
    "The job_id I picked was Paris 2015, Because being in the military terrorist stuff interests me.  Though with that unfortunately I immediately regreted it because I don't know French."
   ]
  },
  {
   "cell_type": "code",
   "execution_count": 34,
   "metadata": {
    "collapsed": false
   },
   "outputs": [],
   "source": [
    "import pymysql\n",
    "import pandas as pd\n",
    "from pandas import DataFrame\n",
    "from collections import Counter\n",
    "from collections import OrderedDict\n",
    "import sys"
   ]
  },
  {
   "cell_type": "code",
   "execution_count": 90,
   "metadata": {
    "collapsed": false
   },
   "outputs": [],
   "source": [
    "try:\n",
    "    conn = pymysql.connect(host='128.206.116.195', port=3306, user='tg4_ro', passwd='?3stEt7!3hUbRa-R', db='tw4_db')\n",
    "    df = pd.read_sql_query(\"Select * from tweet where job_id = 4259\", conn, parse_dates=['created_at'])\n",
    "except mdb.Error as e:\n",
    "\n",
    "    print (\"Error %d: %s\" % (e.args[0],e.args[1]))\n",
    "    sys.exit(1)\n",
    "\n",
    "finally:\n",
    "    if conn:\n",
    "        conn.close()"
   ]
  },
  {
   "cell_type": "markdown",
   "metadata": {},
   "source": [
    "#How many tweets are in the collection? 354369"
   ]
  },
  {
   "cell_type": "code",
   "execution_count": 91,
   "metadata": {
    "collapsed": false
   },
   "outputs": [
    {
     "data": {
      "text/plain": [
       "354369"
      ]
     },
     "execution_count": 91,
     "metadata": {},
     "output_type": "execute_result"
    }
   ],
   "source": [
    "len(df.index)"
   ]
  },
  {
   "cell_type": "markdown",
   "metadata": {},
   "source": [
    "#When do they start? 2015-11-13 23:26:05\n",
    "#When do they end? 2016-04-21 19:49:50"
   ]
  },
  {
   "cell_type": "code",
   "execution_count": 25,
   "metadata": {
    "collapsed": false
   },
   "outputs": [
    {
     "name": "stdout",
     "output_type": "stream",
     "text": [
      "They start at  0   2015-11-13 23:26:05\n",
      "Name: created_at, dtype: datetime64[ns]\n",
      "They end at  354368   2016-04-21 19:49:50\n",
      "Name: created_at, dtype: datetime64[ns]\n"
     ]
    }
   ],
   "source": [
    "#sort based on date\n",
    "df.sort_values('created_at')\n",
    "#start\n",
    "print(\"They start at \", df.head(1).created_at)\n",
    "#end\n",
    "print(\"They end at \", df.tail(1).created_at)"
   ]
  },
  {
   "cell_type": "code",
   "execution_count": 26,
   "metadata": {
    "collapsed": false
   },
   "outputs": [
    {
     "data": {
      "text/html": [
       "<div>\n",
       "<table border=\"1\" class=\"dataframe\">\n",
       "  <thead>\n",
       "    <tr style=\"text-align: right;\">\n",
       "      <th></th>\n",
       "      <th>tweet_id_str</th>\n",
       "      <th>job_id</th>\n",
       "      <th>created_at</th>\n",
       "      <th>text</th>\n",
       "      <th>from_user</th>\n",
       "      <th>from_user_id_str</th>\n",
       "      <th>from_user_name</th>\n",
       "      <th>from_user_fullname</th>\n",
       "      <th>from_user_followers</th>\n",
       "      <th>from_user_following</th>\n",
       "      <th>...</th>\n",
       "      <th>from_user_timezone</th>\n",
       "      <th>to_user</th>\n",
       "      <th>to_user_id_str</th>\n",
       "      <th>to_user_name</th>\n",
       "      <th>source</th>\n",
       "      <th>location_geo</th>\n",
       "      <th>location_geo_0</th>\n",
       "      <th>location_geo_1</th>\n",
       "      <th>iso_language</th>\n",
       "      <th>analysis_state</th>\n",
       "    </tr>\n",
       "  </thead>\n",
       "  <tbody>\n",
       "    <tr>\n",
       "      <th>0</th>\n",
       "      <td>665309688381091841</td>\n",
       "      <td>4259</td>\n",
       "      <td>2015-11-13 23:26:05</td>\n",
       "      <td>RT @Foro_MDM: Si estás en París y necesitas ir...</td>\n",
       "      <td>233220123</td>\n",
       "      <td>233220123</td>\n",
       "      <td>nperezir</td>\n",
       "      <td>Nekane Perez</td>\n",
       "      <td>1208</td>\n",
       "      <td>1254</td>\n",
       "      <td>...</td>\n",
       "      <td>Madrid</td>\n",
       "      <td>None</td>\n",
       "      <td>None</td>\n",
       "      <td>None</td>\n",
       "      <td>&lt;a href=\"http://twitter.com/download/android\" ...</td>\n",
       "      <td>None</td>\n",
       "      <td>NaN</td>\n",
       "      <td>NaN</td>\n",
       "      <td>es</td>\n",
       "      <td>0</td>\n",
       "    </tr>\n",
       "  </tbody>\n",
       "</table>\n",
       "<p>1 rows × 22 columns</p>\n",
       "</div>"
      ],
      "text/plain": [
       "         tweet_id_str  job_id          created_at  \\\n",
       "0  665309688381091841    4259 2015-11-13 23:26:05   \n",
       "\n",
       "                                                text  from_user  \\\n",
       "0  RT @Foro_MDM: Si estás en París y necesitas ir...  233220123   \n",
       "\n",
       "  from_user_id_str from_user_name from_user_fullname  from_user_followers  \\\n",
       "0        233220123       nperezir       Nekane Perez                 1208   \n",
       "\n",
       "   from_user_following       ...        from_user_timezone  to_user  \\\n",
       "0                 1254       ...                    Madrid     None   \n",
       "\n",
       "  to_user_id_str to_user_name  \\\n",
       "0           None         None   \n",
       "\n",
       "                                              source location_geo  \\\n",
       "0  <a href=\"http://twitter.com/download/android\" ...         None   \n",
       "\n",
       "  location_geo_0 location_geo_1  iso_language  analysis_state  \n",
       "0            NaN            NaN            es               0  \n",
       "\n",
       "[1 rows x 22 columns]"
      ]
     },
     "execution_count": 26,
     "metadata": {},
     "output_type": "execute_result"
    }
   ],
   "source": [
    "#for the full first tweet row\n",
    "df.head(1)"
   ]
  },
  {
   "cell_type": "code",
   "execution_count": 22,
   "metadata": {
    "collapsed": false
   },
   "outputs": [
    {
     "data": {
      "text/html": [
       "<div>\n",
       "<table border=\"1\" class=\"dataframe\">\n",
       "  <thead>\n",
       "    <tr style=\"text-align: right;\">\n",
       "      <th></th>\n",
       "      <th>tweet_id_str</th>\n",
       "      <th>job_id</th>\n",
       "      <th>created_at</th>\n",
       "      <th>text</th>\n",
       "      <th>from_user</th>\n",
       "      <th>from_user_id_str</th>\n",
       "      <th>from_user_name</th>\n",
       "      <th>from_user_fullname</th>\n",
       "      <th>from_user_followers</th>\n",
       "      <th>from_user_following</th>\n",
       "      <th>...</th>\n",
       "      <th>from_user_timezone</th>\n",
       "      <th>to_user</th>\n",
       "      <th>to_user_id_str</th>\n",
       "      <th>to_user_name</th>\n",
       "      <th>source</th>\n",
       "      <th>location_geo</th>\n",
       "      <th>location_geo_0</th>\n",
       "      <th>location_geo_1</th>\n",
       "      <th>iso_language</th>\n",
       "      <th>analysis_state</th>\n",
       "    </tr>\n",
       "  </thead>\n",
       "  <tbody>\n",
       "    <tr>\n",
       "      <th>354368</th>\n",
       "      <td>723237327871594496</td>\n",
       "      <td>4259</td>\n",
       "      <td>2016-04-21 19:49:50</td>\n",
       "      <td>les parisiens vs pouvez refaire #porteouverte ...</td>\n",
       "      <td>2559303522</td>\n",
       "      <td>2559303522</td>\n",
       "      <td>retxrn</td>\n",
       "      <td>cheshire</td>\n",
       "      <td>325</td>\n",
       "      <td>123</td>\n",
       "      <td>...</td>\n",
       "      <td>Paris</td>\n",
       "      <td>None</td>\n",
       "      <td>None</td>\n",
       "      <td>None</td>\n",
       "      <td>&lt;a href=\"http://twitter.com\" rel=\"nofollow\"&gt;Tw...</td>\n",
       "      <td>None</td>\n",
       "      <td>NaN</td>\n",
       "      <td>NaN</td>\n",
       "      <td>fr</td>\n",
       "      <td>0</td>\n",
       "    </tr>\n",
       "  </tbody>\n",
       "</table>\n",
       "<p>1 rows × 22 columns</p>\n",
       "</div>"
      ],
      "text/plain": [
       "              tweet_id_str  job_id          created_at  \\\n",
       "354368  723237327871594496    4259 2016-04-21 19:49:50   \n",
       "\n",
       "                                                     text   from_user  \\\n",
       "354368  les parisiens vs pouvez refaire #porteouverte ...  2559303522   \n",
       "\n",
       "       from_user_id_str from_user_name from_user_fullname  \\\n",
       "354368       2559303522         retxrn           cheshire   \n",
       "\n",
       "        from_user_followers  from_user_following       ...        \\\n",
       "354368                  325                  123       ...         \n",
       "\n",
       "        from_user_timezone  to_user to_user_id_str to_user_name  \\\n",
       "354368               Paris     None           None         None   \n",
       "\n",
       "                                                   source location_geo  \\\n",
       "354368  <a href=\"http://twitter.com\" rel=\"nofollow\">Tw...         None   \n",
       "\n",
       "       location_geo_0 location_geo_1  iso_language  analysis_state  \n",
       "354368            NaN            NaN            fr               0  \n",
       "\n",
       "[1 rows x 22 columns]"
      ]
     },
     "execution_count": 22,
     "metadata": {},
     "output_type": "execute_result"
    }
   ],
   "source": [
    "#for the full last tweet row\n",
    "df.tail(1)"
   ]
  },
  {
   "cell_type": "markdown",
   "metadata": {},
   "source": [
    "#This counters the number of most common words. \n",
    "RT(retweet), Paris, #Paris, #PorteOuverte are really the key nouns that are shown within the top 20"
   ]
  },
  {
   "cell_type": "code",
   "execution_count": 56,
   "metadata": {
    "collapsed": false
   },
   "outputs": [
    {
     "data": {
      "text/plain": [
       "[('RT', 328917),\n",
       " ('#PorteOuverte', 252977),\n",
       " ('in', 78489),\n",
       " ('to', 75533),\n",
       " ('de', 67884),\n",
       " ('the', 60200),\n",
       " ('Paris', 58262),\n",
       " ('a', 52417),\n",
       " ('and', 46514),\n",
       " ('#Paris', 46100),\n",
       " ('for', 43820),\n",
       " ('are', 36737),\n",
       " ('of', 35137),\n",
       " ('en', 34016),\n",
       " ('hashtag', 33401),\n",
       " ('#?????', 32315),\n",
       " ('la', 31290),\n",
       " ('le', 30370),\n",
       " ('à', 26872),\n",
       " ('!', 26766)]"
      ]
     },
     "execution_count": 56,
     "metadata": {},
     "output_type": "execute_result"
    }
   ],
   "source": [
    "words = Counter()\n",
    "for index, row in df.iterrows():\n",
    "    words.update(row['text'].split())\n",
    "words.most_common()[:20]"
   ]
  },
  {
   "cell_type": "markdown",
   "metadata": {},
   "source": [
    "#Below are the top 20 most common hashtags(#) that show up in the tweets\n",
    "fusillade // A fusillade is the simultaneous and continuous firing of a group of firearms on command.\n",
    "Bataclan // The Bataclan is a theatre where the attacks took place\n",
    "rechercheParis // \"Search paris\" \n",
    "DonDuSang // \"give blood\"\n",
    "\n",
    "the insteresting ones to maybe look at and with are the \n",
    "SaudiArabia and Muslims"
   ]
  },
  {
   "cell_type": "code",
   "execution_count": 53,
   "metadata": {
    "collapsed": false
   },
   "outputs": [
    {
     "data": {
      "text/plain": [
       "[('#PorteOuverte', 252977),\n",
       " ('#Paris', 46100),\n",
       " ('#?????', 32315),\n",
       " ('#ParisAttacks', 25860),\n",
       " ('#PrayForParis', 24519),\n",
       " ('#porteouverte', 23216),\n",
       " ('#SaudiArabia', 21652),\n",
       " ('#france', 15593),\n",
       " ('#fusillade', 15471),\n",
       " ('#????????', 15236),\n",
       " ('#???????', 15234),\n",
       " ('#PorteOuverte,', 10698),\n",
       " ('#Prayers4Paris', 7618),\n",
       " ('#Bataclan', 7088),\n",
       " ('#Muslims', 6645),\n",
       " ('#PorteOuverte.', 6551),\n",
       " ('#parisattacks', 4921),\n",
       " ('#rechercheParis', 4801),\n",
       " ('#DonDuSang', 4310),\n",
       " ('#', 4286)]"
      ]
     },
     "execution_count": 53,
     "metadata": {},
     "output_type": "execute_result"
    }
   ],
   "source": [
    "dict(words)\n",
    "hashdict = dict()\n",
    "for key,value in words.items():\n",
    "    if key.startswith('#'):\n",
    "            hashdict.update({key:value})\n",
    "Counter(hashdict).most_common()[:20]"
   ]
  },
  {
   "cell_type": "markdown",
   "metadata": {},
   "source": [
    "#Below are the top 20 most common user mentions(@) that show up in the tweets"
   ]
  },
  {
   "cell_type": "code",
   "execution_count": 55,
   "metadata": {
    "collapsed": false
   },
   "outputs": [
    {
     "data": {
      "text/plain": [
       "[('@N_ALDARSOUNI:', 15143),\n",
       " ('@Dr_alrays:', 10656),\n",
       " ('@RohanSinghKalsi:', 6630),\n",
       " ('@MisterVonline', 6338),\n",
       " ('@Ant1Adam:', 5024),\n",
       " ('@GeorgeAylett:', 4895),\n",
       " ('@cznnard:', 4005),\n",
       " ('@thereaIbanksy:', 3436),\n",
       " ('@NormanDesVideos', 3394),\n",
       " ('@JaydenKieran:', 3286),\n",
       " ('@Goldengreg:', 3258),\n",
       " ('@MouridNadia:', 3097),\n",
       " ('@Conflicts:', 2996),\n",
       " ('@bongtao:', 2831),\n",
       " ('@MrsAnneTwist:', 2749),\n",
       " ('@Cassoou_:', 2632),\n",
       " ('@BFMTV', 2629),\n",
       " ('@lemondefr:', 2614),\n",
       " ('@SophiaBush:', 2300),\n",
       " ('@Banlieue_Nord:', 2295)]"
      ]
     },
     "execution_count": 55,
     "metadata": {},
     "output_type": "execute_result"
    }
   ],
   "source": [
    "dict(words)\n",
    "atdict = dict()\n",
    "for key,value in words.items():\n",
    "    if key.startswith('@'):\n",
    "            atdict.update({key:value})\n",
    "Counter(atdict).most_common()[:20]"
   ]
  },
  {
   "cell_type": "code",
   "execution_count": 89,
   "metadata": {
    "collapsed": false
   },
   "outputs": [
    {
     "data": {
      "text/plain": [
       "{1: 160,\n",
       " 2: 172,\n",
       " 3: 90,\n",
       " 4: 98,\n",
       " 5: 90,\n",
       " 6: 94,\n",
       " 7: 71,\n",
       " 8: 104,\n",
       " 9: 89,\n",
       " 10: 55,\n",
       " 11: 41,\n",
       " 12: 29,\n",
       " 13: 70,\n",
       " 14: 66,\n",
       " 15: 47,\n",
       " 16: 15,\n",
       " 46: 331360,\n",
       " 47: 19410,\n",
       " 48: 1094,\n",
       " 49: 556,\n",
       " 50: 279,\n",
       " 51: 171,\n",
       " 52: 104,\n",
       " 53: 104}"
      ]
     },
     "execution_count": 89,
     "metadata": {},
     "output_type": "execute_result"
    }
   ],
   "source": [
    "#group based on weeks\n",
    "dict(df.created_at.dt.week.value_counts())"
   ]
  },
  {
   "cell_type": "code",
   "execution_count": 86,
   "metadata": {
    "collapsed": false
   },
   "outputs": [
    {
     "data": {
      "text/plain": [
       "11    351932\n",
       "12      1103\n",
       "1        563\n",
       "2        363\n",
       "3        241\n",
       "4        167\n",
       "Name: created_at, dtype: int64"
      ]
     },
     "execution_count": 86,
     "metadata": {},
     "output_type": "execute_result"
    }
   ],
   "source": [
    "#Tweet Volume by month\n",
    "df.created_at.dt.month.value_counts()"
   ]
  },
  {
   "cell_type": "markdown",
   "metadata": {},
   "source": [
    "#What is the relationship between the volume of tweets you selected and the volume of tweets for other collections in the data set? \n",
    "Ukraine has a huge % of tweets 12 for just job_id 2604  Pray for paris is only .16%"
   ]
  },
  {
   "cell_type": "code",
   "execution_count": 94,
   "metadata": {
    "collapsed": false
   },
   "outputs": [],
   "source": [
    "try:\n",
    "    conn = pymysql.connect(host='128.206.116.195', port=3306, user='tg4_ro', passwd='?3stEt7!3hUbRa-R', db='tw4_db')\n",
    "    tweets_job_id = pd.read_sql_query(\"Select job_id, count(job_id), (count(job_id)* 100 / (Select Count(*) From tweet)) From tweet GROUP BY job_id\", conn)\n",
    "\n",
    "except mdb.Error as e:\n",
    "\n",
    "    print (\"Error %d: %s\" % (e.args[0],e.args[1]))\n",
    "    sys.exit(1)\n",
    "\n",
    "finally:\n",
    "    if conn:\n",
    "        conn.close()"
   ]
  },
  {
   "cell_type": "code",
   "execution_count": 142,
   "metadata": {
    "collapsed": false
   },
   "outputs": [
    {
     "name": "stdout",
     "output_type": "stream",
     "text": [
      "ingress Lawley       job_id   count  percent\n",
      "1346    4224  489239   0.2265\n",
      "Ingress Lawley       job_id    count  percent\n",
      "1347    4225  1215811    0.563\n",
      "detroit DynamicEntropy       job_id    count  percent\n",
      "1387    4267  1853800   0.8584\n",
      "michigan DynamicEntropy       job_id    count  percent\n",
      "1388    4268  2452742   1.1357\n",
      "Missouri      job_id    count  percent\n",
      "440    2567  8208444   3.8008\n",
      "Tornado      job_id   count  percent\n",
      "432    1160  151648   0.0702\n",
      "Packers      job_id    count  percent\n",
      "438    2348  7732574   3.5804\n",
      "Tea Party      job_id    count  percent\n",
      "441    2572  3536250   1.6374\n",
      "Waiting      job_id   count  percent\n",
      "442    2573  526702   0.2439\n",
      "THG / waiting      job_id   count  percent\n",
      "443    2574  107194   0.0496\n",
      "NRCAgriculture Cooley       job_id  count  percent\n",
      "1361    4239    267   0.0001\n",
      "theNASciences Cooley       job_id  count  percent\n",
      "1362    4240   7749   0.0036\n",
      "World Series      job_id    count  percent\n",
      "445    2577  2525687   1.1695\n",
      "florida Florida Hurricane       job_id     count  percent\n",
      "1364    4242  15453903   7.1556\n",
      "Florida Hurricane       job_id  count  percent\n",
      "1365    4243  85980   0.0398\n",
      "Alabama Florida Hurricane       job_id    count  percent\n",
      "1366    4244  7003941    3.243\n",
      "istandwithloftin Loftin       job_id  count  percent\n",
      "1367    4245    160   0.0001\n",
      "istandwithloftin Loftin Empty DataFrame\n",
      "Columns: [job_id, count, percent]\n",
      "Index: []\n",
      "bowtiger Loftin       job_id  count  percent\n",
      "1368    4247     16      0.0\n",
      "Loftin       job_id  count  percent\n",
      "1369    4248  20668   0.0096\n",
      "LaLone       job_id    count  percent\n",
      "1370    4249  2934519   1.3588\n",
      "LaLone       job_id  count  percent\n",
      "1371    4250  72140   0.0334\n",
      "livingwage Election Hashtag       job_id   count  percent\n",
      "1345    4223  252709    0.117\n",
      "mizzouunited Mizzou       job_id  count  percent\n",
      "1373    4253   2250    0.001\n",
      "EarthQuake Empty DataFrame\n",
      "Columns: [job_id, count, percent]\n",
      "Index: []\n",
      "concernedstudent1950 Mizzou       job_id   count  percent\n",
      "1375    4255  248595   0.1151\n",
      "MU4PP Mizzou       job_id  count  percent\n",
      "1376    4256    451   0.0002\n",
      "MIZZOU Mizzou       job_id   count  percent\n",
      "1377    4257  748811   0.3467\n",
      "prayformizzou Mizzou       job_id   count  percent\n",
      "1378    4258  201828   0.0935\n",
      "PorteOuverte Paris 2015       job_id   count  percent\n",
      "1379    4259  354369   0.1641\n",
      "chicago DynamicEntropy       job_id    count  percent\n",
      "1380    4260  9939533   4.6023\n",
      "compton DynamicEntropy       job_id    count  percent\n",
      "1381    4261  1065437   0.4933\n",
      "Euromaidan / Ukraine      job_id   count  percent\n",
      "447    2598  152799   0.0708\n",
      "Euromaydan / Ukraine      job_id  count  percent\n",
      "448    2599   1384   0.0006\n",
      "evromaidan / Ukraine      job_id  count  percent\n",
      "449    2600  68915   0.0319\n",
      "evromaydan /Ukraine      job_id  count  percent\n",
      "450    2601   4973   0.0023\n",
      "kiev Ukraine      job_id    count  percent\n",
      "451    2602  8061370   3.7327\n",
      "kyiv / Ukraine      job_id    count  percent\n",
      "452    2603  1252457   0.5799\n",
      "trendingdead.com      job_id    count  percent\n",
      "433    1196  8993724   4.1644\n",
      "Ukraine      job_id   count  percent\n",
      "454    2605  833927   0.3861\n",
      "Ukraine      job_id  count  percent\n",
      "455    2606    590   0.0003\n",
      "Ukraine      job_id  count  percent\n",
      "456    2607  18414   0.0085\n",
      "Ukraine      job_id  count  percent\n",
      "457    2608    591   0.0003\n",
      "Ukraine      job_id  count  percent\n",
      "458    2609    247   0.0001\n",
      "Ukraine      job_id   count  percent\n",
      "459    2610  216934   0.1004\n",
      "Ukraine Empty DataFrame\n",
      "Columns: [job_id, count, percent]\n",
      "Index: []\n",
      "Ukraine      job_id  count  percent\n",
      "460    2612      2      0.0\n",
      "gradsdo Mizzou       job_id  count  percent\n",
      "1374    4254   1561   0.0007\n",
      "shooting      job_id   count  percent\n",
      "436    2104  290286   0.1344\n",
      "Gamer Gate      job_id  count  percent\n",
      "462    2617  75671    0.035\n",
      "Gamer Gate      job_id   count  percent\n",
      "463    2618  136920   0.0634\n",
      "SuperBowl    job_id    count  percent\n",
      "0     187  3290086   1.5234\n",
      "Autism      job_id    count  percent\n",
      "461    2616  7318111   3.3885\n",
      "PublicTrust Cooley       job_id  count  percent\n",
      "1360    4238   1114   0.0005\n",
      "flint DynamicEntropy       job_id    count  percent\n",
      "1386    4266  2052229   0.9502\n",
      "Gamer Gate      job_id     count  percent\n",
      "464    2619  12157582   5.6293\n",
      "orleans DynamicEntropy       job_id    count  percent\n",
      "1382    4262  1916996   0.8876\n",
      "Nepal       job_id    count  percent\n",
      "1363    4241  6759959   3.1301\n",
      "School Shooting      job_id   count  percent\n",
      "439    2539  675641   0.3128\n",
      "NOLA DynamicEntropy       job_id    count  percent\n",
      "1383    4263  1222506   0.5661\n",
      "philadelphia DynamicEntropy       job_id    count  percent\n",
      "1384    4264  2709060   1.2544\n",
      "memphis DynamicEntropy       job_id    count  percent\n",
      "1385    4265  2636257   1.2207\n",
      "Election Hashtag       job_id   count  percent\n",
      "1339    4217  268528   0.1243\n",
      "tcot Election Hashtag       job_id     count  percent\n",
      "1340    4218  24624040  11.4017\n",
      "teaparty Election Hashtag       job_id    count  percent\n",
      "1341    4219  3716723    1.721\n",
      "election Election Hashtag       job_id   count  percent\n",
      "1342    4220  460743   0.2133\n",
      "voterfraud Election Hashtag       job_id   count  percent\n",
      "1343    4221  108052     0.05\n",
      "democratslaststandmovies Election Hashtag       job_id  count  percent\n",
      "1344    4222   8917   0.0041\n",
      "Ukraine      job_id     count  percent\n",
      "453    2604  26076549  12.0742\n"
     ]
    },
    {
     "name": "stderr",
     "output_type": "stream",
     "text": [
      "/usr/lib/python3.4/site-packages/ipykernel/__main__.py:2: FutureWarning: sort(columns=....) is deprecated, use sort_values(by=.....)\n",
      "  from ipykernel import kernelapp as app\n"
     ]
    }
   ],
   "source": [
    "tweets_job_id.columns = [\"job_id\",\"count\",\"percent\"] \n",
    "ts = tweets_job_id.sort('percent', ascending=[0])\n",
    "DS_list = {187:\"SuperBowl\",1160:\"Tornado\",4259:\"PorteOuverte Paris 2015\",\n",
    "           1196:\"trendingdead.com\",2104:\"shooting\",2334:\"EarthQuake\",\n",
    "           2348:\"Packers\",2539:\"School Shooting\",2567:\"Missouri\",\n",
    "           2572:\"Tea Party\",2573:\"Waiting\",2574:\"THG / waiting\",\n",
    "           2577:\"World Series\",2598:\"Euromaidan / Ukraine\",2599:\"Euromaydan / Ukraine\",\n",
    "           2600:\"evromaidan / Ukraine\",2601:\"evromaydan /Ukraine\",2602:\"kiev Ukraine\",\n",
    "           2603:\"kyiv / Ukraine\",2604:\"Ukraine\",2605:\"Ukraine\",\n",
    "           2606:\"Ukraine\",2607:\"Ukraine\",2608:\"Ukraine\",\n",
    "           2609:\"Ukraine\",2610:\"Ukraine\",2611:\"Ukraine\",2612:\"Ukraine\",\n",
    "           2616:\"Autism\",2617:\"Gamer Gate\",2618:\"Gamer Gate\",\n",
    "           2619:\"Gamer Gate\",4217:\"Election Hashtag\",4218:\"tcot Election Hashtag\",\n",
    "           4219:\"teaparty Election Hashtag\",4220:\"election Election Hashtag\",4221:\"voterfraud Election Hashtag\",\n",
    "           4222:\"democratslaststandmovies Election Hashtag\",4223:\"livingwage Election Hashtag\",4224:\"ingress Lawley\",\n",
    "           4225:\"Ingress Lawley\",4238:\"PublicTrust Cooley\",4239:\"NRCAgriculture Cooley\",\n",
    "           4240:\"theNASciences Cooley\",4241:\"Nepal\",4242:\"florida Florida Hurricane\",\n",
    "           4243:\"Florida Hurricane\",4244:\"Alabama Florida Hurricane\",4245:\"istandwithloftin Loftin\",\n",
    "           4246:\"istandwithloftin Loftin\",4247:\"bowtiger Loftin\",4248:\"Loftin\",\n",
    "           4249:\"LaLone\",4250:\"LaLone\",4253:\"mizzouunited Mizzou\",\n",
    "           4254:\"gradsdo Mizzou\",4255:\"concernedstudent1950 Mizzou\",4256:\"MU4PP Mizzou\",\n",
    "           4257:\"MIZZOU Mizzou\",4258:\"prayformizzou Mizzou\",4260:\"chicago DynamicEntropy\",\n",
    "           4261:\"compton DynamicEntropy\",4262:\"orleans DynamicEntropy\",4263:\"NOLA DynamicEntropy\",\n",
    "           4264:\"philadelphia DynamicEntropy\",4265:\"memphis DynamicEntropy\",4266:\"flint DynamicEntropy\",\n",
    "           4267:\"detroit DynamicEntropy\",4268:\"michigan DynamicEntropy\"\n",
    "          }\n",
    "for key,value in DS_list.items():\n",
    "    print(value, ts.loc[tweets_job_id[\"job_id\"] == key])"
   ]
  },
  {
   "cell_type": "code",
   "execution_count": null,
   "metadata": {
    "collapsed": true
   },
   "outputs": [],
   "source": []
  }
 ],
 "metadata": {
  "kernelspec": {
   "display_name": "Python 3",
   "language": "python",
   "name": "python3"
  },
  "language_info": {
   "codemirror_mode": {
    "name": "ipython",
    "version": 3
   },
   "file_extension": ".py",
   "mimetype": "text/x-python",
   "name": "python",
   "nbconvert_exporter": "python",
   "pygments_lexer": "ipython3",
   "version": "3.4.3"
  }
 },
 "nbformat": 4,
 "nbformat_minor": 0
}
